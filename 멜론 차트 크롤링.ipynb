{
 "cells": [
  {
   "cell_type": "code",
   "execution_count": 194,
   "metadata": {},
   "outputs": [],
   "source": [
    "from selenium import webdriver\n",
    "import pandas as pd\n",
    "import time"
   ]
  },
  {
   "cell_type": "code",
   "execution_count": 3,
   "metadata": {},
   "outputs": [],
   "source": [
    "driver=webdriver.Chrome('/Users/gunwook/Desktop/git_folder/데이터사이언스입문/chromedriver')"
   ]
  },
  {
   "cell_type": "code",
   "execution_count": 163,
   "metadata": {},
   "outputs": [],
   "source": [
    "driver.get('https://www.melon.com/chart/search/index.htm')"
   ]
  },
  {
   "cell_type": "code",
   "execution_count": 82,
   "metadata": {},
   "outputs": [],
   "source": [
    "chart_1 = driver.find_elements_by_css_selector('#lst50')"
   ]
  },
  {
   "cell_type": "code",
   "execution_count": 93,
   "metadata": {},
   "outputs": [],
   "source": [
    "singer = []\n",
    "sing = []\n",
    "like = []\n",
    "album = []"
   ]
  },
  {
   "cell_type": "code",
   "execution_count": 94,
   "metadata": {},
   "outputs": [],
   "source": [
    "# 1위에서 50위까지\n",
    "for i in range(0,50):\n",
    "    a = chart_1[i].find_elements_by_css_selector('#lst50 > td:nth-child(4) > div > div > div:nth-child(3) > div.ellipsis.rank02 > a')[0].text\n",
    "    b = chart_1[i].find_elements_by_css_selector('#lst50 > td:nth-child(4) > div > div > div.ellipsis.rank01 > span > strong > a')[0].text\n",
    "    c = int(chart_1[i].find_elements_by_css_selector('#lst50 > td:nth-child(5) > div > button > span.cnt')[0].text.replace(',',''))\n",
    "    d = chart_1[i].find_elements_by_css_selector('#lst50 > td:nth-child(4) > div > div > div:nth-child(3) > div.ellipsis.rank03 > a')[0].text\n",
    "    singer.append(a)\n",
    "    sing.append(b)\n",
    "    like.append(c)\n",
    "    album.append(d)"
   ]
  },
  {
   "cell_type": "code",
   "execution_count": 96,
   "metadata": {},
   "outputs": [],
   "source": [
    "# chart_2로 가기\n",
    "driver.find_elements_by_css_selector('#frm > div.paginate.chart_page > span > a')[0].click()"
   ]
  },
  {
   "cell_type": "code",
   "execution_count": 97,
   "metadata": {},
   "outputs": [],
   "source": [
    "chart_2 = driver.find_elements_by_css_selector('#lst100')"
   ]
  },
  {
   "cell_type": "code",
   "execution_count": 100,
   "metadata": {},
   "outputs": [],
   "source": [
    "# 51위부터 100위까지\n",
    "for i in range(0,50):\n",
    "    a = chart_2[i].find_elements_by_css_selector('#lst100 > td:nth-child(4) > div > div > div:nth-child(3) > div.ellipsis.rank02 > a')[0].text\n",
    "    b = chart_2[i].find_elements_by_css_selector('#lst100 > td:nth-child(4) > div > div > div.ellipsis.rank01 > span > strong > a')[0].text\n",
    "    c = int(chart_2[i].find_elements_by_css_selector('#lst100 > td:nth-child(5) > div > button > span.cnt')[0].text.replace(',',''))\n",
    "    d = chart_2[i].find_elements_by_css_selector('#lst100 > td:nth-child(4) > div > div > div:nth-child(3) > div.ellipsis.rank03 > a')[0].text\n",
    "    singer.append(a)\n",
    "    sing.append(b)\n",
    "    like.append(c)\n",
    "    album.append(d)"
   ]
  },
  {
   "cell_type": "code",
   "execution_count": 112,
   "metadata": {},
   "outputs": [],
   "source": [
    "df = driver.find_elements_by_css_selector('#d_chart_search > div > div > div.box_chic.nth1.view.on > div.list_value')"
   ]
  },
  {
   "cell_type": "code",
   "execution_count": 117,
   "metadata": {},
   "outputs": [
    {
     "data": {
      "text/plain": [
       "'2020년대\\n2010년대\\n2000년대\\n1990년대\\n1980년대'"
      ]
     },
     "execution_count": 117,
     "metadata": {},
     "output_type": "execute_result"
    }
   ],
   "source": [
    "df[0].text"
   ]
  },
  {
   "cell_type": "code",
   "execution_count": 141,
   "metadata": {},
   "outputs": [],
   "source": [
    "df[0].find_elements_by_css_selector('ul > li > span > label')[1].click()"
   ]
  },
  {
   "cell_type": "code",
   "execution_count": 143,
   "metadata": {},
   "outputs": [],
   "source": [
    "driver.find_elements_by_css_selector('#d_chart_search > div > div > div.box_chic.nth2.view > div.list_value > ul > li > span > label')[0].click()"
   ]
  },
  {
   "cell_type": "code",
   "execution_count": 146,
   "metadata": {},
   "outputs": [
    {
     "data": {
      "text/plain": [
       "'01월'"
      ]
     },
     "execution_count": 146,
     "metadata": {},
     "output_type": "execute_result"
    }
   ],
   "source": [
    "driver.find_element_by_css_selector('#d_chart_search > div > div > div.box_chic.nth3.view > div.list_value > ul > li > span > label').text"
   ]
  },
  {
   "cell_type": "code",
   "execution_count": 152,
   "metadata": {},
   "outputs": [],
   "source": [
    "d = driver.find_element_by_css_selector('#d_chart_search > div > div > div.box_chic.nth3.view.on > div.list_value')"
   ]
  },
  {
   "cell_type": "code",
   "execution_count": 159,
   "metadata": {},
   "outputs": [],
   "source": [
    "d.find_elements_by_css_selector('ul > li > span > label')[4].click()"
   ]
  },
  {
   "cell_type": "code",
   "execution_count": 175,
   "metadata": {},
   "outputs": [],
   "source": [
    "elem = driver.find_element_by_id('top_search')"
   ]
  },
  {
   "cell_type": "code",
   "execution_count": 178,
   "metadata": {},
   "outputs": [],
   "source": [
    "elem.clear()"
   ]
  },
  {
   "cell_type": "code",
   "execution_count": 179,
   "metadata": {},
   "outputs": [],
   "source": [
    "elem.send_keys('백지영')\n",
    "driver.find_elements_by_css_selector('#header_wrap > div.wrap_search_field > fieldset > button.btn_icon.search_m > span')[0].click()"
   ]
  },
  {
   "cell_type": "code",
   "execution_count": 181,
   "metadata": {
    "scrolled": true
   },
   "outputs": [
    {
     "data": {
      "text/plain": [
       "'여성, 솔로'"
      ]
     },
     "execution_count": 181,
     "metadata": {},
     "output_type": "execute_result"
    }
   ],
   "source": [
    "driver.find_elements_by_css_selector('#conts > div.section_atist > div > div.atist_dtl_info > dl > dd:nth-child(4)')[0].text"
   ]
  },
  {
   "cell_type": "code",
   "execution_count": 182,
   "metadata": {},
   "outputs": [],
   "source": [
    "type_singer = []"
   ]
  },
  {
   "cell_type": "code",
   "execution_count": 183,
   "metadata": {},
   "outputs": [],
   "source": [
    "import time"
   ]
  },
  {
   "cell_type": "code",
   "execution_count": 184,
   "metadata": {},
   "outputs": [],
   "source": [
    "time.sleep(1)"
   ]
  },
  {
   "cell_type": "code",
   "execution_count": 186,
   "metadata": {},
   "outputs": [],
   "source": [
    "for i in singer:\n",
    "    elem = driver.find_element_by_id('top_search')\n",
    "    elem.clear()\n",
    "    elem.send_keys(i)\n",
    "    driver.find_elements_by_css_selector('#header_wrap > div.wrap_search_field > fieldset > button.btn_icon.search_m > span')[0].click()\n",
    "    a = driver.find_elements_by_css_selector('#conts > div.section_atist > div > div.atist_dtl_info > dl > dd:nth-child(4)')[0].text\n",
    "    type_singer.append(a)\n",
    "    time.sleep(1)"
   ]
  },
  {
   "cell_type": "code",
   "execution_count": 187,
   "metadata": {},
   "outputs": [
    {
     "data": {
      "text/plain": [
       "['남성, 솔로',\n",
       " '여성, 그룹',\n",
       " '남성, 솔로',\n",
       " '여성, 솔로',\n",
       " '남성, 그룹',\n",
       " '여성, 솔로',\n",
       " '여성, 솔로',\n",
       " '여성, 그룹',\n",
       " '여성, 솔로',\n",
       " '혼성, 그룹',\n",
       " '여성, 그룹',\n",
       " '여성, 솔로',\n",
       " '남성, 솔로',\n",
       " '여성, 솔로',\n",
       " '남성, 솔로',\n",
       " '남성, 솔로',\n",
       " '남성, 솔로',\n",
       " '남성, 솔로',\n",
       " '남성, 솔로',\n",
       " '남성, 그룹',\n",
       " '여성, 솔로',\n",
       " '남성, 솔로',\n",
       " '남성, 솔로',\n",
       " '남성, 그룹',\n",
       " '남성, 솔로',\n",
       " '여성, 솔로',\n",
       " '남성, 그룹',\n",
       " '여성, 솔로',\n",
       " '남성, 솔로',\n",
       " '여성, 솔로',\n",
       " '남성, 솔로',\n",
       " '남성, 솔로',\n",
       " '남성, 그룹',\n",
       " '여성, 솔로',\n",
       " '남성, 솔로',\n",
       " '남성, 그룹',\n",
       " '여성, 솔로',\n",
       " '여성, 솔로',\n",
       " '남성, 솔로',\n",
       " '여성, 솔로',\n",
       " '남성, 솔로',\n",
       " '여성, 솔로',\n",
       " '여성, 솔로',\n",
       " '여성, 그룹',\n",
       " '여성, 솔로',\n",
       " '남성, 솔로',\n",
       " '남성, 솔로',\n",
       " '여성, 솔로',\n",
       " '여성, 솔로',\n",
       " '여성, 솔로',\n",
       " '여성, 솔로',\n",
       " '여성, 솔로',\n",
       " '남성, 그룹',\n",
       " '여성, 그룹',\n",
       " '남성, 솔로',\n",
       " '남성, 그룹',\n",
       " '여성, 솔로',\n",
       " '여성, 솔로',\n",
       " '남성, 솔로',\n",
       " '여성, 솔로',\n",
       " '남성, 솔로',\n",
       " '여성, 솔로',\n",
       " '남성, 솔로',\n",
       " '여성, 솔로',\n",
       " '여성, 솔로',\n",
       " '여성, 그룹',\n",
       " '여성, 그룹',\n",
       " '남성, 솔로',\n",
       " '남성, 그룹',\n",
       " '남성, 솔로',\n",
       " '여성, 그룹',\n",
       " '남성, 그룹',\n",
       " '여성, 솔로',\n",
       " '남성, 솔로',\n",
       " '남성, 솔로',\n",
       " '여성, 솔로',\n",
       " '여성, 솔로',\n",
       " '여성, 그룹',\n",
       " '남성, 솔로',\n",
       " '여성, 솔로',\n",
       " '남성, 솔로',\n",
       " '남성, 솔로',\n",
       " '남성, 그룹',\n",
       " '여성, 솔로',\n",
       " '여성, 솔로',\n",
       " '남성, 솔로',\n",
       " '여성, 솔로',\n",
       " '여성, 솔로',\n",
       " '남성, 그룹',\n",
       " '남성, 그룹',\n",
       " '여성, 솔로',\n",
       " '여성, 솔로',\n",
       " '남성, 그룹',\n",
       " '남성, 그룹',\n",
       " '남성, 솔로',\n",
       " '남성, 솔로',\n",
       " '남성, 그룹',\n",
       " '여성, 솔로',\n",
       " '남성, 솔로',\n",
       " '남성, 그룹']"
      ]
     },
     "execution_count": 187,
     "metadata": {},
     "output_type": "execute_result"
    }
   ],
   "source": [
    "type_singer"
   ]
  },
  {
   "cell_type": "code",
   "execution_count": 191,
   "metadata": {},
   "outputs": [],
   "source": [
    "sex = []\n",
    "group_solo = []\n",
    "for i in type_singer:\n",
    "    a = i.split(',')\n",
    "    sex.append(a[0])\n",
    "    group_solo.append(a[1])"
   ]
  },
  {
   "cell_type": "code",
   "execution_count": 193,
   "metadata": {},
   "outputs": [
    {
     "data": {
      "text/plain": [
       "[' 솔로',\n",
       " ' 그룹',\n",
       " ' 솔로',\n",
       " ' 솔로',\n",
       " ' 그룹',\n",
       " ' 솔로',\n",
       " ' 솔로',\n",
       " ' 그룹',\n",
       " ' 솔로',\n",
       " ' 그룹',\n",
       " ' 그룹',\n",
       " ' 솔로',\n",
       " ' 솔로',\n",
       " ' 솔로',\n",
       " ' 솔로',\n",
       " ' 솔로',\n",
       " ' 솔로',\n",
       " ' 솔로',\n",
       " ' 솔로',\n",
       " ' 그룹',\n",
       " ' 솔로',\n",
       " ' 솔로',\n",
       " ' 솔로',\n",
       " ' 그룹',\n",
       " ' 솔로',\n",
       " ' 솔로',\n",
       " ' 그룹',\n",
       " ' 솔로',\n",
       " ' 솔로',\n",
       " ' 솔로',\n",
       " ' 솔로',\n",
       " ' 솔로',\n",
       " ' 그룹',\n",
       " ' 솔로',\n",
       " ' 솔로',\n",
       " ' 그룹',\n",
       " ' 솔로',\n",
       " ' 솔로',\n",
       " ' 솔로',\n",
       " ' 솔로',\n",
       " ' 솔로',\n",
       " ' 솔로',\n",
       " ' 솔로',\n",
       " ' 그룹',\n",
       " ' 솔로',\n",
       " ' 솔로',\n",
       " ' 솔로',\n",
       " ' 솔로',\n",
       " ' 솔로',\n",
       " ' 솔로',\n",
       " ' 솔로',\n",
       " ' 솔로',\n",
       " ' 그룹',\n",
       " ' 그룹',\n",
       " ' 솔로',\n",
       " ' 그룹',\n",
       " ' 솔로',\n",
       " ' 솔로',\n",
       " ' 솔로',\n",
       " ' 솔로',\n",
       " ' 솔로',\n",
       " ' 솔로',\n",
       " ' 솔로',\n",
       " ' 솔로',\n",
       " ' 솔로',\n",
       " ' 그룹',\n",
       " ' 그룹',\n",
       " ' 솔로',\n",
       " ' 그룹',\n",
       " ' 솔로',\n",
       " ' 그룹',\n",
       " ' 그룹',\n",
       " ' 솔로',\n",
       " ' 솔로',\n",
       " ' 솔로',\n",
       " ' 솔로',\n",
       " ' 솔로',\n",
       " ' 그룹',\n",
       " ' 솔로',\n",
       " ' 솔로',\n",
       " ' 솔로',\n",
       " ' 솔로',\n",
       " ' 그룹',\n",
       " ' 솔로',\n",
       " ' 솔로',\n",
       " ' 솔로',\n",
       " ' 솔로',\n",
       " ' 솔로',\n",
       " ' 그룹',\n",
       " ' 그룹',\n",
       " ' 솔로',\n",
       " ' 솔로',\n",
       " ' 그룹',\n",
       " ' 그룹',\n",
       " ' 솔로',\n",
       " ' 솔로',\n",
       " ' 그룹',\n",
       " ' 솔로',\n",
       " ' 솔로',\n",
       " ' 그룹']"
      ]
     },
     "execution_count": 193,
     "metadata": {},
     "output_type": "execute_result"
    }
   ],
   "source": [
    "group_solo"
   ]
  },
  {
   "cell_type": "code",
   "execution_count": 205,
   "metadata": {},
   "outputs": [],
   "source": [
    "data_frame = pd.DataFrame(singer)"
   ]
  },
  {
   "cell_type": "code",
   "execution_count": 206,
   "metadata": {},
   "outputs": [
    {
     "data": {
      "text/html": [
       "<div>\n",
       "<style scoped>\n",
       "    .dataframe tbody tr th:only-of-type {\n",
       "        vertical-align: middle;\n",
       "    }\n",
       "\n",
       "    .dataframe tbody tr th {\n",
       "        vertical-align: top;\n",
       "    }\n",
       "\n",
       "    .dataframe thead th {\n",
       "        text-align: right;\n",
       "    }\n",
       "</style>\n",
       "<table border=\"1\" class=\"dataframe\">\n",
       "  <thead>\n",
       "    <tr style=\"text-align: right;\">\n",
       "      <th></th>\n",
       "      <th>0</th>\n",
       "    </tr>\n",
       "  </thead>\n",
       "  <tbody>\n",
       "    <tr>\n",
       "      <td>0</td>\n",
       "      <td>창모 (CHANGMO)</td>\n",
       "    </tr>\n",
       "    <tr>\n",
       "      <td>1</td>\n",
       "      <td>Red Velvet (레드벨벳)</td>\n",
       "    </tr>\n",
       "    <tr>\n",
       "      <td>2</td>\n",
       "      <td>염따</td>\n",
       "    </tr>\n",
       "    <tr>\n",
       "      <td>3</td>\n",
       "      <td>아이유</td>\n",
       "    </tr>\n",
       "    <tr>\n",
       "      <td>4</td>\n",
       "      <td>노을</td>\n",
       "    </tr>\n",
       "    <tr>\n",
       "      <td>...</td>\n",
       "      <td>...</td>\n",
       "    </tr>\n",
       "    <tr>\n",
       "      <td>95</td>\n",
       "      <td>한동근</td>\n",
       "    </tr>\n",
       "    <tr>\n",
       "      <td>96</td>\n",
       "      <td>EXO</td>\n",
       "    </tr>\n",
       "    <tr>\n",
       "      <td>97</td>\n",
       "      <td>헤이즈 (Heize)</td>\n",
       "    </tr>\n",
       "    <tr>\n",
       "      <td>98</td>\n",
       "      <td>장범준</td>\n",
       "    </tr>\n",
       "    <tr>\n",
       "      <td>99</td>\n",
       "      <td>EXO</td>\n",
       "    </tr>\n",
       "  </tbody>\n",
       "</table>\n",
       "<p>100 rows × 1 columns</p>\n",
       "</div>"
      ],
      "text/plain": [
       "                    0\n",
       "0        창모 (CHANGMO)\n",
       "1   Red Velvet (레드벨벳)\n",
       "2                  염따\n",
       "3                 아이유\n",
       "4                  노을\n",
       "..                ...\n",
       "95                한동근\n",
       "96                EXO\n",
       "97        헤이즈 (Heize)\n",
       "98                장범준\n",
       "99                EXO\n",
       "\n",
       "[100 rows x 1 columns]"
      ]
     },
     "execution_count": 206,
     "metadata": {},
     "output_type": "execute_result"
    }
   ],
   "source": [
    "data_frame['sing'] = sing\n",
    "data_frame['album'] = album\n",
    "data_frame['sex'] = sex\n",
    "data_frame['group_solo'] = group_solo\n",
    "data_frame['album'] = album"
   ]
  },
  {
   "cell_type": "code",
   "execution_count": null,
   "metadata": {},
   "outputs": [],
   "source": []
  }
 ],
 "metadata": {
  "kernelspec": {
   "display_name": "Python 3",
   "language": "python",
   "name": "python3"
  },
  "language_info": {
   "codemirror_mode": {
    "name": "ipython",
    "version": 3
   },
   "file_extension": ".py",
   "mimetype": "text/x-python",
   "name": "python",
   "nbconvert_exporter": "python",
   "pygments_lexer": "ipython3",
   "version": "3.7.4"
  }
 },
 "nbformat": 4,
 "nbformat_minor": 2
}
