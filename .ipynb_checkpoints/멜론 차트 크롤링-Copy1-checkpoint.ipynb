{
 "cells": [
  {
   "cell_type": "code",
   "execution_count": 243,
   "metadata": {},
   "outputs": [],
   "source": [
    "from selenium import webdriver\n",
    "import pandas as pd\n",
    "import time"
   ]
  },
  {
   "cell_type": "markdown",
   "metadata": {},
   "source": [
    "# 멜론 차트 크롤링"
   ]
  },
  {
   "cell_type": "code",
   "execution_count": 244,
   "metadata": {},
   "outputs": [],
   "source": [
    "driver=webdriver.Chrome('/Users/gunwook/Desktop/git_folder/데이터사이언스입문/chromedriver')"
   ]
  },
  {
   "cell_type": "code",
   "execution_count": 209,
   "metadata": {},
   "outputs": [],
   "source": [
    "driver.get('https://www.melon.com/chart/search/index.htm')"
   ]
  },
  {
   "cell_type": "code",
   "execution_count": 234,
   "metadata": {},
   "outputs": [],
   "source": [
    "chart_1 = driver.find_elements_by_css_selector('#lst50')"
   ]
  },
  {
   "cell_type": "code",
   "execution_count": 214,
   "metadata": {},
   "outputs": [],
   "source": [
    "singer = []\n",
    "sing = []\n",
    "like = []\n",
    "album = []"
   ]
  },
  {
   "cell_type": "code",
   "execution_count": 235,
   "metadata": {},
   "outputs": [],
   "source": [
    "# 1위에서 50위까지\n",
    "for i in range(0,50):\n",
    "    a = chart_1[i].find_elements_by_css_selector('#lst50 > td:nth-child(4) > div > div > div:nth-child(3) > div.ellipsis.rank02 > a')[0].text\n",
    "    b = chart_1[i].find_elements_by_css_selector('#lst50 > td:nth-child(4) > div > div > div.ellipsis.rank01 > span > strong > a')[0].text\n",
    "    c = int(chart_1[i].find_elements_by_css_selector('#lst50 > td:nth-child(5) > div > button > span.cnt')[0].text.replace(',',''))\n",
    "    d = chart_1[i].find_elements_by_css_selector('#lst50 > td:nth-child(4) > div > div > div:nth-child(3) > div.ellipsis.rank03 > a')[0].text\n",
    "    singer.append(a)\n",
    "    sing.append(b)\n",
    "    like.append(c)\n",
    "    album.append(d)"
   ]
  },
  {
   "cell_type": "code",
   "execution_count": 236,
   "metadata": {},
   "outputs": [],
   "source": [
    "# chart_2로 가기\n",
    "driver.find_elements_by_css_selector('#frm > div.paginate.chart_page > span > a')[0].click()"
   ]
  },
  {
   "cell_type": "code",
   "execution_count": 237,
   "metadata": {},
   "outputs": [],
   "source": [
    "chart_2 = driver.find_elements_by_css_selector('#lst100')"
   ]
  },
  {
   "cell_type": "code",
   "execution_count": 238,
   "metadata": {},
   "outputs": [],
   "source": [
    "# 51위부터 100위까지\n",
    "for i in range(0,50):\n",
    "    a = chart_2[i].find_elements_by_css_selector('#lst100 > td:nth-child(4) > div > div > div:nth-child(3) > div.ellipsis.rank02 > a')[0].text\n",
    "    b = chart_2[i].find_elements_by_css_selector('#lst100 > td:nth-child(4) > div > div > div.ellipsis.rank01 > span > strong > a')[0].text\n",
    "    c = int(chart_2[i].find_elements_by_css_selector('#lst100 > td:nth-child(5) > div > button > span.cnt')[0].text.replace(',',''))\n",
    "    d = chart_2[i].find_elements_by_css_selector('#lst100 > td:nth-child(4) > div > div > div:nth-child(3) > div.ellipsis.rank03 > a')[0].text\n",
    "    singer.append(a)\n",
    "    sing.append(b)\n",
    "    like.append(c)\n",
    "    album.append(d)"
   ]
  },
  {
   "cell_type": "code",
   "execution_count": 112,
   "metadata": {},
   "outputs": [],
   "source": [
    "df = driver.find_elements_by_css_selector('#d_chart_search > div > div > div.box_chic.nth1.view.on > div.list_value')"
   ]
  },
  {
   "cell_type": "code",
   "execution_count": 117,
   "metadata": {},
   "outputs": [
    {
     "data": {
      "text/plain": [
       "'2020년대\\n2010년대\\n2000년대\\n1990년대\\n1980년대'"
      ]
     },
     "execution_count": 117,
     "metadata": {},
     "output_type": "execute_result"
    }
   ],
   "source": [
    "df[0].text"
   ]
  },
  {
   "cell_type": "code",
   "execution_count": 141,
   "metadata": {},
   "outputs": [],
   "source": [
    "df[0].find_elements_by_css_selector('ul > li > span > label')[1].click()"
   ]
  },
  {
   "cell_type": "code",
   "execution_count": 143,
   "metadata": {},
   "outputs": [],
   "source": [
    "driver.find_elements_by_css_selector('#d_chart_search > div > div > div.box_chic.nth2.view > div.list_value > ul > li > span > label')[0].click()"
   ]
  },
  {
   "cell_type": "code",
   "execution_count": 146,
   "metadata": {},
   "outputs": [
    {
     "data": {
      "text/plain": [
       "'01월'"
      ]
     },
     "execution_count": 146,
     "metadata": {},
     "output_type": "execute_result"
    }
   ],
   "source": [
    "driver.find_element_by_css_selector('#d_chart_search > div > div > div.box_chic.nth3.view > div.list_value > ul > li > span > label').text"
   ]
  },
  {
   "cell_type": "code",
   "execution_count": 152,
   "metadata": {},
   "outputs": [],
   "source": [
    "d = driver.find_element_by_css_selector('#d_chart_search > div > div > div.box_chic.nth3.view.on > div.list_value')"
   ]
  },
  {
   "cell_type": "code",
   "execution_count": 159,
   "metadata": {},
   "outputs": [],
   "source": [
    "d.find_elements_by_css_selector('ul > li > span > label')[4].click()"
   ]
  },
  {
   "cell_type": "code",
   "execution_count": 182,
   "metadata": {},
   "outputs": [],
   "source": [
    "type_singer = []"
   ]
  },
  {
   "cell_type": "code",
   "execution_count": 183,
   "metadata": {},
   "outputs": [],
   "source": [
    "import time"
   ]
  },
  {
   "cell_type": "code",
   "execution_count": 184,
   "metadata": {},
   "outputs": [],
   "source": [
    "time.sleep(1)"
   ]
  },
  {
   "cell_type": "code",
   "execution_count": 240,
   "metadata": {},
   "outputs": [],
   "source": [
    "driver.get('https://www.melon.com/search/total/index.htm?q=EXO&section=&searchGnbYn=Y&kkoSpl=Y&kkoDpType=&linkOrText=T&ipath=srch_form')"
   ]
  },
  {
   "cell_type": "code",
   "execution_count": null,
   "metadata": {},
   "outputs": [],
   "source": [
    "# 가수별로 성별, 그룹 여부 뽑는 코드\n",
    "for i in singer:\n",
    "    try:\n",
    "        elem = driver.find_element_by_id('top_search')\n",
    "        elem.clear()\n",
    "        elem.send_keys(i)\n",
    "        driver.find_elements_by_css_selector('#header_wrap > div.wrap_search_field > fieldset > button.btn_icon.search_m > span')[0].click()\n",
    "        a = driver.find_elements_by_css_selector('#conts > div.section_atist > div > div.atist_dtl_info > dl > dd:nth-child(4)')[0].text\n",
    "        type_singer.append(a)\n",
    "    except IndexError:\n",
    "        type_singer.apppend('NA')"
   ]
  },
  {
   "cell_type": "code",
   "execution_count": 191,
   "metadata": {},
   "outputs": [],
   "source": [
    "# 두개가 합쳐져 있어서 분ㄹ\n",
    "sex = []\n",
    "group_solo = []\n",
    "for i in type_singer:\n",
    "    a = i.split(',')\n",
    "    sex.append(a[0])\n",
    "    group_solo.append(a[1])"
   ]
  },
  {
   "cell_type": "code",
   "execution_count": 205,
   "metadata": {},
   "outputs": [],
   "source": [
    "data_frame = pd.DataFrame(singer)"
   ]
  },
  {
   "cell_type": "code",
   "execution_count": 207,
   "metadata": {},
   "outputs": [],
   "source": [
    "data_frame['sing'] = sing\n",
    "data_frame['album'] = album\n",
    "data_frame['sex'] = sex\n",
    "data_frame['group_solo'] = group_solo\n",
    "data_frame['like'] = like"
   ]
  },
  {
   "cell_type": "code",
   "execution_count": 208,
   "metadata": {},
   "outputs": [
    {
     "data": {
      "text/html": [
       "<div>\n",
       "<style scoped>\n",
       "    .dataframe tbody tr th:only-of-type {\n",
       "        vertical-align: middle;\n",
       "    }\n",
       "\n",
       "    .dataframe tbody tr th {\n",
       "        vertical-align: top;\n",
       "    }\n",
       "\n",
       "    .dataframe thead th {\n",
       "        text-align: right;\n",
       "    }\n",
       "</style>\n",
       "<table border=\"1\" class=\"dataframe\">\n",
       "  <thead>\n",
       "    <tr style=\"text-align: right;\">\n",
       "      <th></th>\n",
       "      <th>0</th>\n",
       "      <th>sing</th>\n",
       "      <th>album</th>\n",
       "      <th>sex</th>\n",
       "      <th>group_solo</th>\n",
       "      <th>like</th>\n",
       "    </tr>\n",
       "  </thead>\n",
       "  <tbody>\n",
       "    <tr>\n",
       "      <td>0</td>\n",
       "      <td>창모 (CHANGMO)</td>\n",
       "      <td>METEOR</td>\n",
       "      <td>Boyhood</td>\n",
       "      <td>남성</td>\n",
       "      <td>솔로</td>\n",
       "      <td>202604</td>\n",
       "    </tr>\n",
       "    <tr>\n",
       "      <td>1</td>\n",
       "      <td>Red Velvet (레드벨벳)</td>\n",
       "      <td>Psycho</td>\n",
       "      <td>‘The ReVe Festival’ Finale</td>\n",
       "      <td>여성</td>\n",
       "      <td>그룹</td>\n",
       "      <td>173440</td>\n",
       "    </tr>\n",
       "    <tr>\n",
       "      <td>2</td>\n",
       "      <td>염따</td>\n",
       "      <td>아마두 (feat.우원재, 김효은, 넉살, Huckleberry P)</td>\n",
       "      <td>Dingo X DAMOIM (Part 2)</td>\n",
       "      <td>남성</td>\n",
       "      <td>솔로</td>\n",
       "      <td>145830</td>\n",
       "    </tr>\n",
       "    <tr>\n",
       "      <td>3</td>\n",
       "      <td>아이유</td>\n",
       "      <td>Blueming</td>\n",
       "      <td>Love poem</td>\n",
       "      <td>여성</td>\n",
       "      <td>솔로</td>\n",
       "      <td>222729</td>\n",
       "    </tr>\n",
       "    <tr>\n",
       "      <td>4</td>\n",
       "      <td>노을</td>\n",
       "      <td>늦은 밤 너의 집 앞 골목길에서</td>\n",
       "      <td>늦은 밤 너의 집 앞 골목길에서</td>\n",
       "      <td>남성</td>\n",
       "      <td>그룹</td>\n",
       "      <td>138722</td>\n",
       "    </tr>\n",
       "    <tr>\n",
       "      <td>...</td>\n",
       "      <td>...</td>\n",
       "      <td>...</td>\n",
       "      <td>...</td>\n",
       "      <td>...</td>\n",
       "      <td>...</td>\n",
       "      <td>...</td>\n",
       "    </tr>\n",
       "    <tr>\n",
       "      <td>95</td>\n",
       "      <td>한동근</td>\n",
       "      <td>나를 기다렸나요</td>\n",
       "      <td>나를 기다렸나요</td>\n",
       "      <td>남성</td>\n",
       "      <td>솔로</td>\n",
       "      <td>5678</td>\n",
       "    </tr>\n",
       "    <tr>\n",
       "      <td>96</td>\n",
       "      <td>EXO</td>\n",
       "      <td>지킬 (Jekyll)</td>\n",
       "      <td>OBSESSION - The 6th Album</td>\n",
       "      <td>남성</td>\n",
       "      <td>그룹</td>\n",
       "      <td>52531</td>\n",
       "    </tr>\n",
       "    <tr>\n",
       "      <td>97</td>\n",
       "      <td>헤이즈 (Heize)</td>\n",
       "      <td>떨어지는 낙엽까지도</td>\n",
       "      <td>만추</td>\n",
       "      <td>여성</td>\n",
       "      <td>솔로</td>\n",
       "      <td>44894</td>\n",
       "    </tr>\n",
       "    <tr>\n",
       "      <td>98</td>\n",
       "      <td>장범준</td>\n",
       "      <td>노래방에서</td>\n",
       "      <td>장범준 3집</td>\n",
       "      <td>남성</td>\n",
       "      <td>솔로</td>\n",
       "      <td>165512</td>\n",
       "    </tr>\n",
       "    <tr>\n",
       "      <td>99</td>\n",
       "      <td>EXO</td>\n",
       "      <td>Ya Ya Ya</td>\n",
       "      <td>OBSESSION - The 6th Album</td>\n",
       "      <td>남성</td>\n",
       "      <td>그룹</td>\n",
       "      <td>50498</td>\n",
       "    </tr>\n",
       "  </tbody>\n",
       "</table>\n",
       "<p>100 rows × 6 columns</p>\n",
       "</div>"
      ],
      "text/plain": [
       "                    0                                    sing  \\\n",
       "0        창모 (CHANGMO)                                  METEOR   \n",
       "1   Red Velvet (레드벨벳)                                  Psycho   \n",
       "2                  염따  아마두 (feat.우원재, 김효은, 넉살, Huckleberry P)   \n",
       "3                 아이유                                Blueming   \n",
       "4                  노을                       늦은 밤 너의 집 앞 골목길에서   \n",
       "..                ...                                     ...   \n",
       "95                한동근                                나를 기다렸나요   \n",
       "96                EXO                             지킬 (Jekyll)   \n",
       "97        헤이즈 (Heize)                              떨어지는 낙엽까지도   \n",
       "98                장범준                                   노래방에서   \n",
       "99                EXO                                Ya Ya Ya   \n",
       "\n",
       "                         album sex group_solo    like  \n",
       "0                      Boyhood  남성         솔로  202604  \n",
       "1   ‘The ReVe Festival’ Finale  여성         그룹  173440  \n",
       "2      Dingo X DAMOIM (Part 2)  남성         솔로  145830  \n",
       "3                    Love poem  여성         솔로  222729  \n",
       "4            늦은 밤 너의 집 앞 골목길에서  남성         그룹  138722  \n",
       "..                         ...  ..        ...     ...  \n",
       "95                    나를 기다렸나요  남성         솔로    5678  \n",
       "96   OBSESSION - The 6th Album  남성         그룹   52531  \n",
       "97                          만추  여성         솔로   44894  \n",
       "98                      장범준 3집  남성         솔로  165512  \n",
       "99   OBSESSION - The 6th Album  남성         그룹   50498  \n",
       "\n",
       "[100 rows x 6 columns]"
      ]
     },
     "execution_count": 208,
     "metadata": {},
     "output_type": "execute_result"
    }
   ],
   "source": [
    "data_frame"
   ]
  },
  {
   "cell_type": "markdown",
   "metadata": {},
   "source": [
    "# 가온차트 크롤링"
   ]
  },
  {
   "cell_type": "code",
   "execution_count": 245,
   "metadata": {},
   "outputs": [],
   "source": [
    "driver.get('http://gaonchart.co.kr/main/section/chart/online.gaon')"
   ]
  },
  {
   "cell_type": "code",
   "execution_count": 258,
   "metadata": {},
   "outputs": [],
   "source": [
    "chart_top_100 = driver.find_elements_by_css_selector('#wrap > div.chart > table > tbody > tr > td.subject')"
   ]
  },
  {
   "cell_type": "code",
   "execution_count": 286,
   "metadata": {},
   "outputs": [],
   "source": [
    "gaon_100_count = driver.find_elements_by_css_selector('#wrap > div.chart > table > tbody > tr > td.count > p')"
   ]
  },
  {
   "cell_type": "code",
   "execution_count": 296,
   "metadata": {},
   "outputs": [],
   "source": [
    "production_top_100 = driver.find_elements_by_css_selector('#wrap > div.chart > table > tbody > tr > td.production > p.pro')\n",
    "dist_top_100 = driver.find_elements_by_css_selector('#wrap > div.chart > table > tbody > tr > td.production > p.dist')"
   ]
  },
  {
   "cell_type": "code",
   "execution_count": 319,
   "metadata": {},
   "outputs": [],
   "source": [
    "names = []\n",
    "artists = []\n",
    "albums = []\n",
    "counts = []\n",
    "productions = []\n",
    "dists = []"
   ]
  },
  {
   "cell_type": "code",
   "execution_count": 348,
   "metadata": {},
   "outputs": [],
   "source": [
    "for i in range(2,5):\n",
    "    # 주간 설정(range는 원하는만큼 지정)\n",
    "    driver.find_elements_by_css_selector('#chart_week_select')[0].click()\n",
    "    driver.find_elements_by_css_selector('#chart_week_select > option:nth-child({0})'.format(i))[0].click()\n",
    "    for i in range(0,100):\n",
    "        # 노래 제목, 가온지수, production, 앨범까지 포함 (최대 200까지 지정 가능)\n",
    "        chart_top_100 = driver.find_elements_by_css_selector('#wrap > div.chart > table > tbody > tr > td.subject')\n",
    "        gaon_100_count = driver.find_elements_by_css_selector('#wrap > div.chart > table > tbody > tr > td.count > p')\n",
    "        production_top_100 = driver.find_elements_by_css_selector('#wrap > div.chart > table > tbody > tr > td.production > p.pro')\n",
    "        dist_top_100 = driver.find_elements_by_css_selector('#wrap > div.chart > table > tbody > tr > td.production > p.dist')\n",
    "        song_name = chart_top_100[i].find_elements_by_css_selector('td.subject > p:nth-child(1)')[0].text\n",
    "        artist_album = chart_top_100[1].find_elements_by_css_selector('td.subject > p.singer')[0].text\n",
    "        split_album_name = artist_album.split('|')\n",
    "        artist = split_album_name[0]\n",
    "        album = split_album_name[1]\n",
    "        count = int(gaon_100_count[i].text.replace(',',''))\n",
    "        production = production_top_100[i].text\n",
    "        dist = dist_top_100[i].text\n",
    "        names.append(song_name)\n",
    "        artists.append(artist)\n",
    "        albums.append(album)\n",
    "        counts.append(count)\n",
    "        productions.append(production)\n",
    "        dists.append(dist)"
   ]
  },
  {
   "cell_type": "code",
   "execution_count": null,
   "metadata": {},
   "outputs": [],
   "source": []
  }
 ],
 "metadata": {
  "kernelspec": {
   "display_name": "Python 3",
   "language": "python",
   "name": "python3"
  },
  "language_info": {
   "codemirror_mode": {
    "name": "ipython",
    "version": 3
   },
   "file_extension": ".py",
   "mimetype": "text/x-python",
   "name": "python",
   "nbconvert_exporter": "python",
   "pygments_lexer": "ipython3",
   "version": "3.6.10"
  }
 },
 "nbformat": 4,
 "nbformat_minor": 2
}
